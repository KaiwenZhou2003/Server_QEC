{
 "cells": [
  {
   "cell_type": "markdown",
   "metadata": {},
   "source": [
    "尝试把BPGD复现，在BP迭代之后加入decimation"
   ]
  },
  {
   "cell_type": "code",
   "execution_count": 94,
   "metadata": {},
   "outputs": [],
   "source": [
    "from ldpc.codes import rep_code\n",
    "from bposd.hgp import hgp\n",
    "import time\n",
    "import numpy as np"
   ]
  },
  {
   "cell_type": "code",
   "execution_count": 95,
   "metadata": {},
   "outputs": [],
   "source": [
    "\"\"\"初始化表面码\"\"\"\n",
    "\n",
    "h = rep_code(3)\n",
    "surface_code = hgp(h1=h, h2=h, compute_distance=True)\n",
    "H = surface_code.hz\n",
    "n = surface_code.N\n",
    "\n",
    "\"\"\"初始化decoder\"\"\"\n",
    "from mqt.qecc import *  # UFDecoder\n",
    "from ldpc import bp_decoder, bposd_decoder\n",
    "\n",
    "p = 0.05  # 错误率\n",
    "\n",
    "# our Decoder\n",
    "T = 10\n",
    "bp_decoder = bp_decoder(\n",
    "    surface_code.hz,\n",
    "    error_rate=None,\n",
    "    channel_probs=[None],\n",
    "    max_iter=T,\n",
    "    bp_method=2,\n",
    "    ms_scaling_factor=0,\n",
    ")\n",
    "\n",
    "# BPOSD Decoder\n",
    "bposd_decoder = bposd_decoder(\n",
    "    surface_code.hz,\n",
    "    error_rate=p,\n",
    "    channel_probs=[None],\n",
    "    max_iter=T,\n",
    "    bp_method=\"ms\",\n",
    "    ms_scaling_factor=0,\n",
    "    osd_method=\"osd_0\",\n",
    "    osd_order=7,\n",
    ")\n",
    "\n",
    "# UFDecoder\n",
    "code = Code(surface_code.hx, surface_code.hz)\n",
    "uf_decoder = UFHeuristic()\n",
    "uf_decoder.set_code(code)"
   ]
  },
  {
   "cell_type": "markdown",
   "metadata": {},
   "source": [
    "我们方法预解码后的一些结果（先验）"
   ]
  },
  {
   "cell_type": "code",
   "execution_count": 96,
   "metadata": {},
   "outputs": [],
   "source": [
    "B = np.array(\n",
    "    [\n",
    "        [1, 0, 0, 1, 0, 0, 0],\n",
    "        [1, 0, 0, 0, 1, 0, 0],\n",
    "        [0, 1, 0, 1, 0, 1, 0],\n",
    "        [0, 1, 0, 0, 1, 0, 1],\n",
    "        [0, 0, 1, 0, 0, 1, 0],\n",
    "        [0, 0, 1, 0, 0, 0, 1],\n",
    "    ]\n",
    ")\n",
    "\n",
    "\"\"\"初始化变量节点的对数似然比（log prob ratio）\"\"\"\n",
    "W = [np.log((1 - p) / p) for _ in range(n)]\n",
    "W_f = W[: H.shape[0]]\n",
    "W_g = W[H.shape[0] :]"
   ]
  },
  {
   "cell_type": "markdown",
   "metadata": {},
   "source": [
    "效果比较差，可能是接口写错了，还需要继续改（2025.2.14）"
   ]
  },
  {
   "cell_type": "code",
   "execution_count": 97,
   "metadata": {},
   "outputs": [
    {
     "name": "stdout",
     "output_type": "stream",
     "text": [
      "\n",
      "Total trials: 10000\n",
      "Our Success rate: 50.94%\n",
      "BP+OSD Success rate: 95.27%\n",
      "UF Success rate: 86.28%\n"
     ]
    }
   ],
   "source": [
    "np.random.seed(1)\n",
    "\n",
    "LFN = 25  # large fixed number\n",
    "\n",
    "num_trials = 10000\n",
    "\n",
    "our_num_success = 0\n",
    "bposd_num_success = 0\n",
    "uf_num_success = 0\n",
    "\n",
    "for i in range(num_trials):\n",
    "\n",
    "    \"\"\"Generate random error\"\"\"\n",
    "    error = np.zeros(surface_code.N).astype(int)\n",
    "    for q in range(surface_code.N):\n",
    "        if np.random.rand() < p:\n",
    "            error[q] = 1\n",
    "\n",
    "    \"\"\"Obtain syndrome\"\"\"\n",
    "    syndrome = surface_code.hz @ error % 2\n",
    "\n",
    "    \"\"\"Decode\"\"\"\n",
    "\n",
    "    # BP+OSD Decoder\n",
    "    bposd_decoder.decode(syndrome)\n",
    "    bposd_residual_error = (bposd_decoder.osdw_decoding + error) % 2\n",
    "    bposd_flag = (surface_code.lz @ bposd_residual_error % 2).any()\n",
    "    if bposd_flag == 0:\n",
    "        bposd_num_success += 1\n",
    "\n",
    "    # UF Decoder\n",
    "    uf_decoder.decode(syndrome)\n",
    "    uf_result = np.array(uf_decoder.result.estimate).astype(int)\n",
    "    uf_residual_error = (uf_result + error) % 2\n",
    "    uf_flag = (surface_code.lz @ uf_residual_error % 2).any()\n",
    "    if uf_flag == 0:\n",
    "        uf_num_success += 1\n",
    "\n",
    "    # Our decoder\n",
    "    for j in range(n):\n",
    "\n",
    "        bp_decoder.decode(syndrome)  # run BP for T times\n",
    "        e_hard_values = bp_decoder.bp_decoding\n",
    "\n",
    "        if (np.dot(H, e_hard_values) % 2 == syndrome).all():\n",
    "            our_residual_error = (e_hard_values + error) % 2\n",
    "            our_flag = (surface_code.lz @ our_residual_error % 2).any()\n",
    "            if our_flag == 0:\n",
    "                our_num_success += 1\n",
    "                break\n",
    "        else:\n",
    "            # print(f\"{bp_decoder.log_prob_ratios}\")\n",
    "            # print(f\"max value = {max(abs(bp_decoder.log_prob_ratios))}\")\n",
    "            max_index = np.argmax(abs(bp_decoder.log_prob_ratios))\n",
    "            if W[max_index] >= 0:\n",
    "                W[max_index] = LFN\n",
    "            else:\n",
    "                W[max_index] = -LFN\n",
    "\n",
    "        bp_decoder.update_channel_probs(W)  # TODO: 得传入概率，用w去更新channel probs\n",
    "\n",
    "\n",
    "our_success_rate = our_num_success / num_trials\n",
    "bposd_success_rate = bposd_num_success / num_trials\n",
    "uf_success_rate = uf_num_success / num_trials\n",
    "print(f\"\\nTotal trials: {num_trials}\")\n",
    "print(f\"Our Success rate: {our_success_rate * 100:.2f}%\")\n",
    "print(f\"BP+OSD Success rate: {bposd_success_rate * 100:.2f}%\")\n",
    "print(f\"UF Success rate: {uf_success_rate * 100:.2f}%\")"
   ]
  },
  {
   "cell_type": "code",
   "execution_count": 13,
   "metadata": {},
   "outputs": [
    {
     "data": {
      "text/plain": [
       "array([[ 1.+0.j,  0.+0.j,  0.+0.j,  0.+0.j],\n",
       "       [ 0.+0.j,  0.+0.j, -1.+0.j,  0.+0.j],\n",
       "       [ 0.+0.j, -1.+0.j,  0.+0.j,  0.+0.j],\n",
       "       [ 0.+0.j,  0.+0.j,  0.+0.j,  1.+0.j]])"
      ]
     },
     "execution_count": 13,
     "metadata": {},
     "output_type": "execute_result"
    }
   ],
   "source": [
    "import numpy as np\n",
    "iswap = np.array([[1,0,0,0],[0,0,1j,0],[0,1j,0,0],[0,0,0,1]])\n",
    "swap = np.array([[1,0,0,0],[0,0,1,0],[0,1,0,0],[0,0,0,1]])\n",
    "iswap@iswap@swap"
   ]
  },
  {
   "cell_type": "code",
   "execution_count": null,
   "metadata": {},
   "outputs": [],
   "source": []
  }
 ],
 "metadata": {
  "kernelspec": {
   "display_name": "qec",
   "language": "python",
   "name": "python3"
  },
  "language_info": {
   "codemirror_mode": {
    "name": "ipython",
    "version": 3
   },
   "file_extension": ".py",
   "mimetype": "text/x-python",
   "name": "python",
   "nbconvert_exporter": "python",
   "pygments_lexer": "ipython3",
   "version": "3.10.14"
  }
 },
 "nbformat": 4,
 "nbformat_minor": 2
}
